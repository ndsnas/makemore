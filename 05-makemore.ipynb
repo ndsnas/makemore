{
 "cells": [
  {
   "cell_type": "code",
   "execution_count": 2,
   "metadata": {},
   "outputs": [],
   "source": [
    "import torch\n",
    "import torch.nn.functional as F\n",
    "import matplotlib.pyplot as plt\n",
    "%matplotlib inline"
   ]
  },
  {
   "cell_type": "code",
   "execution_count": 3,
   "metadata": {},
   "outputs": [],
   "source": [
    "words = open('names-shuffled.txt', 'r').read().splitlines()"
   ]
  },
  {
   "cell_type": "code",
   "execution_count": 4,
   "metadata": {},
   "outputs": [
    {
     "name": "stdout",
     "output_type": "stream",
     "text": [
      "27\n"
     ]
    }
   ],
   "source": [
    "chars = sorted(list(set(''.join(words))))\n",
    "stoi = {c:i+1 for i, c in enumerate(chars)}\n",
    "stoi['.'] = 0\n",
    "itos = {v:k for k, v in stoi.items()}\n",
    "vocab_size = len(itos)\n",
    "print(vocab_size)"
   ]
  },
  {
   "cell_type": "code",
   "execution_count": 33,
   "metadata": {},
   "outputs": [
    {
     "name": "stdout",
     "output_type": "stream",
     "text": [
      "torch.Size([404639, 8]) torch.Size([404639])\n",
      "torch.Size([50467, 8]) torch.Size([50467])\n",
      "torch.Size([50351, 8]) torch.Size([50351])\n"
     ]
    }
   ],
   "source": [
    "# change the context length to 8\n",
    "context_length = 8 # context length: number of chars used to predict the next char\n",
    "\n",
    "def build_dataset(words):\n",
    "    X, Y = [], [] # inputs and labels\n",
    "\n",
    "    for w in words:\n",
    "        context = [0] * context_length\n",
    "        for c in w + '.':\n",
    "            X.append(context)\n",
    "            Y.append(stoi[c])\n",
    "            context = context[1:] + [stoi[c]] # sliding the context by 1 character to right\n",
    "\n",
    "    X = torch.tensor(X)\n",
    "    Y = torch.tensor(Y)\n",
    "    print(X.shape, Y.shape)\n",
    "    return X, Y\n",
    "\n",
    "import random\n",
    "\n",
    "random.seed(42)\n",
    "random.shuffle(words)\n",
    "n1 = int(0.8*len(words))\n",
    "n2 = int(0.9*len(words))\n",
    "\n",
    "Xtr, Ytr = build_dataset(words[:n1])      # 80%\n",
    "Xdev, Ydev = build_dataset(words[n1:n2])  # 10%\n",
    "Xte, Yte = build_dataset(words[n2:])      # 10%"
   ]
  },
  {
   "cell_type": "code",
   "execution_count": 34,
   "metadata": {},
   "outputs": [
    {
     "name": "stdout",
     "output_type": "stream",
     "text": [
      "........ --> k\n",
      ".......k --> a\n",
      "......ka --> a\n",
      ".....kaa --> r\n",
      "....kaar --> u\n",
      "...kaaru --> n\n",
      "..kaarun --> y\n",
      ".kaaruny --> a\n",
      "kaarunya --> n\n",
      "aarunyan --> .\n",
      "........ --> v\n",
      ".......v --> i\n",
      "......vi --> b\n",
      ".....vib --> h\n",
      "....vibh --> u\n",
      "...vibhu --> m\n",
      "..vibhum --> .\n",
      "........ --> a\n",
      ".......a --> n\n",
      "......an --> i\n"
     ]
    }
   ],
   "source": [
    "for x, y in zip(Xtr[:20], Ytr[:20]):\n",
    "    print(''.join([itos[c.item()] for c in x]), \"-->\", itos[y.item()])"
   ]
  },
  {
   "cell_type": "code",
   "execution_count": 35,
   "metadata": {},
   "outputs": [],
   "source": [
    "class Linear:\n",
    "\n",
    "    def __init__(self, fan_in, fan_out, bias=True):\n",
    "        self.weight = torch.randn((fan_in, fan_out)) / fan_in ** 0.5 # kaiming initialization\n",
    "        self.bias = torch.zeros(fan_out) if bias else None\n",
    "\n",
    "    def __call__(self, x):\n",
    "        self.out = x @ self.weight\n",
    "        if self.bias is not None:\n",
    "            self.out += self.bias\n",
    "        return self.out\n",
    "    \n",
    "    def parameters(self):\n",
    "        return [self.weight] + ([] if self.bias is None else [self.bias])\n",
    "\n",
    "class BatchNorm1D:\n",
    "\n",
    "    def __init__(self, dim, eps=1e-5, momentum=0.1):\n",
    "        self.momentum = momentum\n",
    "        self.eps = eps\n",
    "        self.training = True\n",
    "\n",
    "        self.gamma = torch.ones(dim)\n",
    "        self.beta = torch.zeros(dim)\n",
    "\n",
    "        self.running_mean = torch.zeros(dim)\n",
    "        self.running_var = torch.ones(dim)\n",
    "    \n",
    "    def __call__(self, x: torch.Tensor):\n",
    "\n",
    "        # during training calculate the batch statistics\n",
    "        if self.training:\n",
    "            xmean = x.mean(dim=0, keepdim=True)\n",
    "            xvar = x.var(dim=0, keepdim=True)\n",
    "        # while inference use running statistics\n",
    "        else:\n",
    "            xmean = self.running_mean\n",
    "            xvar = self.running_var\n",
    "\n",
    "        xnorm = (x - xmean)/torch.sqrt(xvar+self.eps)\n",
    "        self.out = self.gamma * xnorm + self.beta\n",
    "\n",
    "        # during training calculate the running statistics\n",
    "        # during inference these are fixed\n",
    "        if self.training:\n",
    "            with torch.no_grad():\n",
    "                self.running_mean = (1-self.momentum)*self.running_mean + self.momentum*xmean\n",
    "                self.running_var  = (1-self.momentum)*self.running_var  + self.momentum*xvar\n",
    "        \n",
    "        return self.out\n",
    "    \n",
    "    def parameters(self):\n",
    "        return [self.gamma, self.beta]\n",
    "    \n",
    "class Tanh:\n",
    "    def __call__(self, x):\n",
    "        self.out = torch.tanh(x)\n",
    "        return self.out\n",
    "    def parameters(self):\n",
    "        return []\n",
    "    \n",
    "# ---------- new classes ----------\n",
    "\n",
    "class Embedding: # equivalent to emb = C[Xb]\n",
    "    def __init__(self, vocab_size, n_emb_dim):\n",
    "        self.weight = torch.randn((vocab_size, n_emb_dim))\n",
    "    def __call__(self, IX):\n",
    "        return self.weight[IX]\n",
    "    def parameters(self):\n",
    "        return [self.weight]\n",
    "    \n",
    "class Flatten: # equivalent to x = emb.view(-1, context_length*n_emb_dim) # 24x30\n",
    "    def __call__(self, x):\n",
    "        self.out = x.view(x.shape[0], -1)\n",
    "        return self.out\n",
    "    def parameters(self):\n",
    "        return []\n",
    "    \n",
    "class Sequential:\n",
    "    def __init__(self, layers):\n",
    "        self.layers = layers\n",
    "    def __call__(self, x):\n",
    "        for layer in self.layers:\n",
    "            x = layer(x)\n",
    "        self.out = x\n",
    "        return self.out\n",
    "    def parameters(self):\n",
    "        return [param for layer in self.layers for param in layer.parameters()]"
   ]
  },
  {
   "cell_type": "code",
   "execution_count": 36,
   "metadata": {},
   "outputs": [],
   "source": [
    "torch.manual_seed(42);"
   ]
  },
  {
   "cell_type": "code",
   "execution_count": 37,
   "metadata": {},
   "outputs": [
    {
     "name": "stdout",
     "output_type": "stream",
     "text": [
      "22097\n"
     ]
    }
   ],
   "source": [
    "n_emb_dim = 10    # embedding dimensionality\n",
    "n_hidden = 200    # neurons in hidden layers\n",
    "\n",
    "# C = torch.randn((vocab_size, n_emb_dim)) # moved to model class as Embedding layer\n",
    "\n",
    "model = Sequential([\n",
    "     # moving the emb = C[Xb] and x = emb.view(-1, context_length*n_emb_dim) code here so that we don't have to do it manually in training loop\n",
    "    Embedding(vocab_size, n_emb_dim), Flatten(),\n",
    "    Linear(context_length*n_emb_dim, n_hidden, bias=False), BatchNorm1D(n_hidden), Tanh(),\n",
    "    Linear(n_hidden, vocab_size)\n",
    "])\n",
    "\n",
    "with torch.no_grad():\n",
    "    # as we've BN now, we won't be changing the weights of the last layer but we'll be changing the gamma\n",
    "    # gamma is multiplied with the weights in BN\n",
    "    model.layers[-1].weight *= 0.1\n",
    "    # layers[-1].gamma *= 0.1\n",
    "\n",
    "    # # all other layers: apply gain\n",
    "    # for layer in layers[:-1]:\n",
    "    #     if isinstance(layer, Linear):\n",
    "    #         layer.weight *= 1.0 # 5/3 # not required with BN\n",
    "\n",
    "# parameters = [C] + [p for layer in layers for p in layer.parameters()]\n",
    "\n",
    "# embedding parameters now come from the Embedding layer\n",
    "parameters = model.parameters()\n",
    "\n",
    "\n",
    "print(sum(p.nelement() for p in parameters))\n",
    "for p in parameters:\n",
    "    p.requires_grad = True"
   ]
  },
  {
   "cell_type": "code",
   "execution_count": 38,
   "metadata": {},
   "outputs": [
    {
     "name": "stdout",
     "output_type": "stream",
     "text": [
      "      0/ 200000: 3.2953\n",
      "  10000/ 200000: 1.9752\n",
      "  20000/ 200000: 2.0348\n",
      "  30000/ 200000: 1.4548\n",
      "  40000/ 200000: 1.7701\n",
      "  50000/ 200000: 2.2711\n",
      "  60000/ 200000: 2.3227\n",
      "  70000/ 200000: 1.7584\n",
      "  80000/ 200000: 1.8502\n",
      "  90000/ 200000: 2.0718\n",
      " 100000/ 200000: 1.9528\n",
      " 110000/ 200000: 1.6756\n",
      " 120000/ 200000: 1.3108\n",
      " 130000/ 200000: 2.1620\n",
      " 140000/ 200000: 1.6929\n",
      " 150000/ 200000: 1.5499\n",
      " 160000/ 200000: 1.7450\n",
      " 170000/ 200000: 2.2507\n",
      " 180000/ 200000: 2.1619\n",
      " 190000/ 200000: 2.0189\n"
     ]
    }
   ],
   "source": [
    "epochs = 200000\n",
    "batch_size = 24\n",
    "lossi = []\n",
    "\n",
    "for i in range(epochs):\n",
    "    ix = torch.randint(0, Xtr.shape[0], (batch_size, ))\n",
    "    Xb, Yb = Xtr[ix], Ytr[ix]\n",
    "\n",
    "    # forward pass\n",
    "    # this has been moved to the model above\n",
    "    # emb = C[Xb] # 24x3x10\n",
    "    # x = emb.view(-1, context_length*n_emb_dim) # 24x30\n",
    "\n",
    "    # x = Xb\n",
    "    # for layer in layers:\n",
    "    #     x = layer(x)\n",
    "\n",
    "    # moved the above code to the Squential class\n",
    "\n",
    "    logits = model(Xb)\n",
    "\n",
    "    loss = F.cross_entropy(logits, Yb)\n",
    "\n",
    "\n",
    "    # zero grads\n",
    "    for p in parameters:\n",
    "        p.grad = None\n",
    "    \n",
    "    # backpropagation\n",
    "    loss.backward()\n",
    "\n",
    "    # update weights\n",
    "    lr = 0.1 if i < 150000 else 0.01 # updated lr after introducing the BN\n",
    "    for p in parameters:\n",
    "        p.data += -lr * p.grad\n",
    "    \n",
    "    # track stats\n",
    "    if i%10000 == 0:\n",
    "        print(f'{i:7d}/{epochs:7d}: {loss.item():.4f}')\n",
    "    lossi.append(loss.log10().item())"
   ]
  },
  {
   "cell_type": "markdown",
   "metadata": {},
   "source": [
    "We have changed the context length from 3 to 8. But this network doesn't make much sense as we're crushing way too much information way too fast."
   ]
  },
  {
   "cell_type": "code",
   "execution_count": 39,
   "metadata": {},
   "outputs": [
    {
     "data": {
      "image/png": "[encoded data removed]",
      "text/plain": [
       "<Figure size 640x480 with 1 Axes>"
      ]
     },
     "metadata": {},
     "output_type": "display_data"
    }
   ],
   "source": [
    "plt.plot(lossi);"
   ]
  },
  {
   "cell_type": "markdown",
   "metadata": {},
   "source": [
    "### Smoothen the curve"
   ]
  },
  {
   "cell_type": "code",
   "execution_count": 40,
   "metadata": {},
   "outputs": [
    {
     "data": {
      "image/png": "[encoded data removed]",
      "text/plain": [
       "<Figure size 640x480 with 1 Axes>"
      ]
     },
     "metadata": {},
     "output_type": "display_data"
    }
   ],
   "source": [
    "# lossi is of shape [200000]. We converted it to shape [200, 1000] and then took the mean of each row\n",
    "plt.plot(torch.tensor(lossi).view(-1, 1000).mean(dim=1));\n",
    "# in the plot, there's a decay at 150 it is because of the change in learning rate in the training loop"
   ]
  },
  {
   "cell_type": "code",
   "execution_count": 41,
   "metadata": {},
   "outputs": [],
   "source": [
    "# put layers into eval mode (needed for BN)\n",
    "for layer in model.layers:\n",
    "    layer.training = False"
   ]
  },
  {
   "cell_type": "code",
   "execution_count": 42,
   "metadata": {},
   "outputs": [
    {
     "name": "stdout",
     "output_type": "stream",
     "text": [
      "train 1.7971388101577759\n",
      "dev 1.8256733417510986\n"
     ]
    }
   ],
   "source": [
    "@torch.no_grad() # disables gradient tracking\n",
    "def split_loss(split):\n",
    "    x, y = {\n",
    "        'train': (Xtr, Ytr),\n",
    "        'dev': (Xdev, Ydev),\n",
    "        'test': (Xte, Yte)\n",
    "    }[split]\n",
    "\n",
    "    logits = model(x)\n",
    "    loss = F.cross_entropy(logits, y)\n",
    "    print(split, loss.item())\n",
    "\n",
    "split_loss('train')\n",
    "split_loss('dev')"
   ]
  },
  {
   "cell_type": "markdown",
   "metadata": {},
   "source": [
    "#### Performance Log\n",
    "\n",
    "- Original (3 character context + 200 hidden neurons + 12K params): train = 1.91, val = 1.92\n",
    "- context: 3 -> 8 (22K params): train = 1.79, val = 1.82"
   ]
  },
  {
   "cell_type": "code",
   "execution_count": 43,
   "metadata": {},
   "outputs": [
    {
     "name": "stdout",
     "output_type": "stream",
     "text": [
      "vinonthini.\n",
      "riteesh.\n",
      "nityu.\n",
      "medhu.\n",
      "haridaa.\n",
      "misho.\n",
      "namali.\n",
      "chandran.\n",
      "charajani.\n",
      "rfoon.\n",
      "sathyar.\n",
      "mathaakeetha.\n",
      "bharsani.\n",
      "migen.\n",
      "analis.\n",
      "mulush.\n",
      "ambeeva.\n",
      "kobigan.\n",
      "rishmanth.\n",
      "hahdumithran.\n"
     ]
    }
   ],
   "source": [
    "# sample from the model\n",
    "\n",
    "for _ in range(20):\n",
    "    out = []\n",
    "    context = [0] * context_length\n",
    "\n",
    "    while True:\n",
    "\n",
    "        logits = model(torch.tensor([context]))\n",
    "        probs = F.softmax(logits, dim=1)\n",
    "\n",
    "        ix = torch.multinomial(probs, 1).item()\n",
    "        context = context[1:] + [ix]\n",
    "        out.append(ix)\n",
    "        if ix == 0:\n",
    "            break\n",
    "    \n",
    "    print(''.join([itos[c] for c in out]))"
   ]
  }
 ],
 "metadata": {
  "kernelspec": {
   "display_name": "zoro",
   "language": "python",
   "name": "python3"
  },
  "language_info": {
   "codemirror_mode": {
    "name": "ipython",
    "version": 3
   },
   "file_extension": ".py",
   "mimetype": "text/x-python",
   "name": "python",
   "nbconvert_exporter": "python",
   "pygments_lexer": "ipython3",
   "version": "3.10.13"
  }
 },
 "nbformat": 4,
 "nbformat_minor": 2
}
