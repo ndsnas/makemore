{
 "cells": [
  {
   "cell_type": "code",
   "execution_count": 1,
   "metadata": {},
   "outputs": [],
   "source": [
    "import torch\n",
    "import torch.nn.functional as F\n",
    "import matplotlib.pyplot as plt\n",
    "%matplotlib inline"
   ]
  },
  {
   "cell_type": "code",
   "execution_count": 2,
   "metadata": {},
   "outputs": [],
   "source": [
    "words = open('names-shuffled.txt', 'r').read().splitlines()"
   ]
  },
  {
   "cell_type": "code",
   "execution_count": 3,
   "metadata": {},
   "outputs": [
    {
     "name": "stdout",
     "output_type": "stream",
     "text": [
      "27\n"
     ]
    }
   ],
   "source": [
    "chars = sorted(list(set(''.join(words))))\n",
    "stoi = {c:i+1 for i, c in enumerate(chars)}\n",
    "stoi['.'] = 0\n",
    "itos = {v:k for k, v in stoi.items()}\n",
    "vocab_size = len(itos)\n",
    "print(vocab_size)"
   ]
  },
  {
   "cell_type": "code",
   "execution_count": 4,
   "metadata": {},
   "outputs": [
    {
     "name": "stdout",
     "output_type": "stream",
     "text": [
      "torch.Size([404420, 3]) torch.Size([404420])\n",
      "torch.Size([50599, 3]) torch.Size([50599])\n",
      "torch.Size([50438, 3]) torch.Size([50438])\n"
     ]
    }
   ],
   "source": [
    "context_length = 3 # context length: number of chars used to predict the next char\n",
    "\n",
    "def build_dataset(words):\n",
    "    X, Y = [], [] # inputs and labels\n",
    "\n",
    "    for w in words:\n",
    "        context = [0] * context_length\n",
    "        for c in w + '.':\n",
    "            X.append(context)\n",
    "            Y.append(stoi[c])\n",
    "            context = context[1:] + [stoi[c]] # sliding the context by 1 character to right\n",
    "\n",
    "    X = torch.tensor(X)\n",
    "    Y = torch.tensor(Y)\n",
    "    print(X.shape, Y.shape)\n",
    "    return X, Y\n",
    "\n",
    "import random\n",
    "\n",
    "random.seed(42)\n",
    "random.shuffle(words)\n",
    "n1 = int(0.8*len(words))\n",
    "n2 = int(0.9*len(words))\n",
    "\n",
    "Xtr, Ytr = build_dataset(words[:n1])      # 80%\n",
    "Xdev, Ydev = build_dataset(words[n1:n2])  # 10%\n",
    "Xte, Yte = build_dataset(words[n2:])      # 10%"
   ]
  },
  {
   "cell_type": "code",
   "execution_count": 5,
   "metadata": {},
   "outputs": [],
   "source": [
    "# to compare manual gradients with PyTorch gradients\n",
    "\n",
    "def cmp(s, dt, t):\n",
    "    ex = torch.all(dt == t.grad).item() # exactly equal\n",
    "    app = torch.allclose(dt, t.grad)    # approx equal\n",
    "    maxdiff = (dt - t.grad).abs().max().item() # maximum difference\n",
    "    print(f'{s:15s} | exact: {str(ex):5s} | approximate: {str(app):5s} | maxdiff: {maxdiff}')"
   ]
  },
  {
   "cell_type": "code",
   "execution_count": 6,
   "metadata": {},
   "outputs": [
    {
     "name": "stdout",
     "output_type": "stream",
     "text": [
      "Total Parameters: 4137\n"
     ]
    }
   ],
   "source": [
    "n_emb_dim = 10    # embedding dimensionality\n",
    "n_hidden = 64    # neurons in hidden layers\n",
    "\n",
    "g = torch.Generator().manual_seed(1337101)\n",
    "\n",
    "C = torch.randn((vocab_size, n_emb_dim), generator=g)\n",
    "# Layer 1\n",
    "W1 = torch.randn((context_length*n_emb_dim, n_hidden), generator=g) * (5/3)/((context_length*n_emb_dim)**0.5)\n",
    "b1 = torch.randn(n_hidden, generator=g) * 0.1 # useless because of BN\n",
    "# Layer 2\n",
    "W2 = torch.randn((n_hidden, vocab_size), generator=g) * 0.1\n",
    "b2 = torch.randn(vocab_size, generator=g) * 0.1\n",
    "\n",
    "# batch normalization params\n",
    "bn_gain = torch.ones((1, n_hidden))*0.1 + 1.0\n",
    "bn_bias = torch.zeros((1, n_hidden))*0.1\n",
    "\n",
    "# grads not required for these\n",
    "# bn_mean_running = torch.zeros((1, n_hidden))\n",
    "# bn_std_running = torch.ones((1, n_hidden))\n",
    "\n",
    "# added bn_gain and bn_bias\n",
    "parameters = [C, W1, b1, W2, b2, bn_gain, bn_bias]\n",
    "\n",
    "for p in parameters:\n",
    "    p.requires_grad = True\n",
    "\n",
    "print(f'Total Parameters: {sum(p.nelement() for p in parameters)}')"
   ]
  },
  {
   "cell_type": "code",
   "execution_count": 7,
   "metadata": {},
   "outputs": [],
   "source": [
    "batch_size = 24\n",
    "n = batch_size # variable for convenience\n",
    "\n",
    "# creating a mini-batch\n",
    "ix = torch.randint(0, Xtr.shape[0], (batch_size, ), generator=g)\n",
    "Xb, Yb = Xtr[ix], Ytr[ix]"
   ]
  },
  {
   "cell_type": "code",
   "execution_count": 33,
   "metadata": {},
   "outputs": [
    {
     "data": {
      "text/plain": [
       "tensor(3.4895, grad_fn=<NegBackward0>)"
      ]
     },
     "execution_count": 33,
     "metadata": {},
     "output_type": "execute_result"
    }
   ],
   "source": [
    "# forward pass\n",
    "\n",
    "emb = C[Xb]\n",
    "embcat = emb.view(-1, W1.shape[0])\n",
    "# Linear layer 1\n",
    "hprebn = embcat@W1 + b1 # hidden layer pre-BN\n",
    "# BN layer\n",
    "bnmeani = (1/n)*hprebn.sum(0, keepdim=True)\n",
    "bndiff = hprebn - bnmeani\n",
    "bndiff2 = bndiff**2\n",
    "bnvar = (1/(n-1))*(bndiff2).sum(0, keepdim=True) # Bessel's Correction (dividing by n-1, not n)\n",
    "bnvar_inv = (bnvar + 1e-5)**(-0.5) # 1/sqrt(bnvar + 1e-5)\n",
    "bnraw = bndiff*bnvar_inv\n",
    "hpreact = bn_gain * bnraw + bn_bias # hidden layer pre-activation\n",
    "# Non-linearity\n",
    "h = torch.tanh(hpreact) # hidden layer\n",
    "# Linear layer 2\n",
    "logits = h@W2 + b2 # output layer\n",
    "# cross entropy loss (F.cross_entropy(logits, Yb))\n",
    "logit_maxes = logits.max(1, keepdim=True).values\n",
    "norm_logits = logits - logit_maxes # subtract max for numeric stability\n",
    "counts = norm_logits.exp()\n",
    "counts_sum = counts.sum(1, keepdim=True)\n",
    "counts_sum_inv = counts_sum**-1\n",
    "probs = counts * counts_sum_inv\n",
    "logprobs = probs.log()\n",
    "loss = -logprobs[range(n), Yb].mean() # indexing the correct (Yth) char prob from each 24 (n) rows\n",
    "\n",
    "# PyTorch backward pass\n",
    "for p in parameters:\n",
    "    p.grad = None\n",
    "for t in [logprobs, probs, counts, counts_sum, counts_sum_inv,\n",
    "          norm_logits, logit_maxes, logits, h, hpreact, bnraw,\n",
    "          bnvar_inv, bnvar, bndiff2, bndiff, hprebn, bnmeani,\n",
    "          embcat, emb]:\n",
    "    t.retain_grad()\n",
    "loss.backward()\n",
    "loss\n"
   ]
  },
  {
   "cell_type": "code",
   "execution_count": 99,
   "metadata": {},
   "outputs": [
    {
     "name": "stdout",
     "output_type": "stream",
     "text": [
      "logprobs        | exact: True  | approximate: True  | maxdiff: 0.0\n",
      "probs           | exact: False | approximate: True  | maxdiff: 2.384185791015625e-07\n",
      "counts_sum_inv  | exact: False | approximate: True  | maxdiff: 5.960464477539063e-08\n",
      "counts_sum      | exact: False | approximate: True  | maxdiff: 9.313225746154785e-10\n",
      "counts          | exact: False | approximate: True  | maxdiff: 2.9802322387695312e-08\n"
     ]
    }
   ],
   "source": [
    "# Exercise 1: backprop through the whole thing manually, \n",
    "# backpropagating through exactly all of the variables \n",
    "# as they are defined in the forward pass above, one by one\n",
    "\n",
    "# -----------------\n",
    "# YOUR CODE HERE :)\n",
    "\n",
    "dlogprobs = torch.zeros_like(logprobs)\n",
    "dlogprobs[range(n), Yb] = -1/n\n",
    "\n",
    "dprobs = dlogprobs * (1.0/probs)\n",
    "\n",
    "dcounts_sum_inv = (dprobs * counts).sum(1, keepdim=True) # when a node is replicated then its gradient is added during backpropagation\n",
    "\n",
    "dcounts_sum = dcounts_sum_inv * (-counts_sum**-2)\n",
    "\n",
    "dcounts = (dprobs * counts_sum_inv) + (dcounts_sum * torch.ones_like(counts))\n",
    "\n",
    "# -----------------\n",
    "\n",
    "cmp('logprobs', dlogprobs, logprobs)\n",
    "cmp('probs', dprobs, probs)\n",
    "cmp('counts_sum_inv', dcounts_sum_inv, counts_sum_inv)\n",
    "cmp('counts_sum', dcounts_sum, counts_sum)\n",
    "cmp('counts', dcounts, counts)\n",
    "# cmp('norm_logits', dnorm_logits, norm_logits)\n",
    "# cmp('logit_maxes', dlogit_maxes, logit_maxes)\n",
    "# cmp('logits', dlogits, logits)\n",
    "# cmp('h', dh, h)\n",
    "# cmp('W2', dW2, W2)\n",
    "# cmp('b2', db2, b2)\n",
    "# cmp('hpreact', dhpreact, hpreact)\n",
    "# cmp('bngain', dbngain, bngain)\n",
    "# cmp('bnbias', dbnbias, bnbias)\n",
    "# cmp('bnraw', dbnraw, bnraw)\n",
    "# cmp('bnvar_inv', dbnvar_inv, bnvar_inv)\n",
    "# cmp('bnvar', dbnvar, bnvar)\n",
    "# cmp('bndiff2', dbndiff2, bndiff2)\n",
    "# cmp('bndiff', dbndiff, bndiff)\n",
    "# cmp('bnmeani', dbnmeani, bnmeani)\n",
    "# cmp('hprebn', dhprebn, hprebn)\n",
    "# cmp('embcat', dembcat, embcat)\n",
    "# cmp('W1', dW1, W1)\n",
    "# cmp('b1', db1, b1)\n",
    "# cmp('emb', demb, emb)\n",
    "# cmp('C', dC, C)"
   ]
  }
 ],
 "metadata": {
  "kernelspec": {
   "display_name": "zoro",
   "language": "python",
   "name": "python3"
  },
  "language_info": {
   "codemirror_mode": {
    "name": "ipython",
    "version": 3
   },
   "file_extension": ".py",
   "mimetype": "text/x-python",
   "name": "python",
   "nbconvert_exporter": "python",
   "pygments_lexer": "ipython3",
   "version": "3.10.13"
  }
 },
 "nbformat": 4,
 "nbformat_minor": 2
}
