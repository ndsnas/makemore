{
 "cells": [
  {
   "cell_type": "code",
   "execution_count": 1,
   "metadata": {},
   "outputs": [],
   "source": [
    "import torch\n",
    "import torch.nn.functional as F\n",
    "import matplotlib.pyplot as plt\n",
    "%matplotlib inline"
   ]
  },
  {
   "cell_type": "code",
   "execution_count": 2,
   "metadata": {},
   "outputs": [],
   "source": [
    "words = open('names-shuffled.txt', 'r').read().splitlines()"
   ]
  },
  {
   "cell_type": "code",
   "execution_count": 6,
   "metadata": {},
   "outputs": [
    {
     "name": "stdout",
     "output_type": "stream",
     "text": [
      "27\n"
     ]
    }
   ],
   "source": [
    "chars = sorted(list(set(''.join(words))))\n",
    "stoi = {c:i+1 for i, c in enumerate(chars)}\n",
    "stoi['.'] = 0\n",
    "itos = {v:k for k, v in stoi.items()}\n",
    "vocab_size = len(itos)\n",
    "print(vocab_size)"
   ]
  },
  {
   "cell_type": "code",
   "execution_count": 8,
   "metadata": {},
   "outputs": [
    {
     "name": "stdout",
     "output_type": "stream",
     "text": [
      "torch.Size([404063, 3]) torch.Size([404063])\n",
      "torch.Size([50753, 3]) torch.Size([50753])\n",
      "torch.Size([50641, 3]) torch.Size([50641])\n"
     ]
    }
   ],
   "source": [
    "context_length = 3 # context length: number of chars used to predict the next char\n",
    "\n",
    "def build_dataset(words):\n",
    "    X, Y = [], [] # inputs and labels\n",
    "\n",
    "    for w in words:\n",
    "        context = [0] * context_length\n",
    "        for c in w + '.':\n",
    "            X.append(context)\n",
    "            Y.append(stoi[c])\n",
    "            context = context[1:] + [stoi[c]] # sliding the context by 1 character to right\n",
    "\n",
    "    X = torch.tensor(X)\n",
    "    Y = torch.tensor(Y)\n",
    "    print(X.shape, Y.shape)\n",
    "    return X, Y\n",
    "\n",
    "import random\n",
    "\n",
    "random.seed(42)\n",
    "random.shuffle(words)\n",
    "n1 = int(0.8*len(words))\n",
    "n2 = int(0.9*len(words))\n",
    "\n",
    "Xtr, Ytr = build_dataset(words[:n1])      # 80%\n",
    "Xdev, Ydev = build_dataset(words[n1:n2])  # 10%\n",
    "Xte, Yte = build_dataset(words[n2:])      # 10%"
   ]
  },
  {
   "cell_type": "code",
   "execution_count": 63,
   "metadata": {},
   "outputs": [
    {
     "name": "stdout",
     "output_type": "stream",
     "text": [
      "Total Parameters: 11897\n"
     ]
    }
   ],
   "source": [
    "n_emb_dim = 10    # embedding dimensionality\n",
    "n_hidden = 200    # neurons in hidden layers\n",
    "\n",
    "g = torch.Generator().manual_seed(1337101)\n",
    "\n",
    "C = torch.randn((vocab_size, n_emb_dim), generator=g, requires_grad=True)\n",
    "W1 = torch.randn((context_length*n_emb_dim, n_hidden), generator=g, requires_grad=True)\n",
    "b1 = torch.randn(n_hidden, generator=g, requires_grad=True)\n",
    "W2 = torch.randn((n_hidden, vocab_size), generator=g, requires_grad=True)\n",
    "b2 = torch.randn(vocab_size, generator=g, requires_grad=True)\n",
    "\n",
    "parameters = [C, W1, b1, W2, b2]\n",
    "\n",
    "print(f'Total Parameters: {sum(p.nelement() for p in parameters)}')"
   ]
  },
  {
   "cell_type": "code",
   "execution_count": 64,
   "metadata": {},
   "outputs": [
    {
     "name": "stdout",
     "output_type": "stream",
     "text": [
      "      0/ 200000: 29.2238\n",
      "  10000/ 200000: 2.2045\n",
      "  20000/ 200000: 2.1383\n",
      "  30000/ 200000: 2.2018\n",
      "  40000/ 200000: 2.3168\n",
      "  50000/ 200000: 1.9739\n",
      "  60000/ 200000: 2.6243\n",
      "  70000/ 200000: 1.8065\n",
      "  80000/ 200000: 1.8101\n",
      "  90000/ 200000: 1.8437\n",
      " 100000/ 200000: 2.3599\n",
      " 110000/ 200000: 1.7165\n",
      " 120000/ 200000: 2.1550\n",
      " 130000/ 200000: 2.0746\n",
      " 140000/ 200000: 1.7881\n",
      " 150000/ 200000: 1.6131\n",
      " 160000/ 200000: 1.9763\n",
      " 170000/ 200000: 1.7174\n",
      " 180000/ 200000: 1.9987\n",
      " 190000/ 200000: 1.8892\n"
     ]
    }
   ],
   "source": [
    "epochs = 200000\n",
    "batch_size = 24\n",
    "lossi = []\n",
    "g = torch.Generator().manual_seed(1337101)\n",
    "for i in range(epochs):\n",
    "    ix = torch.randint(0, Xtr.shape[0], (batch_size, ), generator=g)\n",
    "    Xb, Yb = Xtr[ix], Ytr[ix]\n",
    "\n",
    "    # forward pass\n",
    "    emb = C[Xb] # 24x3x10\n",
    "    h = torch.tanh(emb.view(-1, context_length*n_emb_dim)@W1 + b1) # 24x200\n",
    "    logits = h@W2 + b2\n",
    "    loss = F.cross_entropy(logits, Yb)\n",
    "\n",
    "    # zero grads\n",
    "    for p in parameters:\n",
    "        p.grad = None\n",
    "    \n",
    "    # backpropagation\n",
    "    loss.backward()\n",
    "\n",
    "    # update weights\n",
    "    lr = 0.1 if i < 100000 else 0.01  \n",
    "    for p in parameters:\n",
    "        p.data += -lr * p.grad\n",
    "    \n",
    "    # track stats\n",
    "    if i%10000 == 0:\n",
    "        print(f'{i:7d}/{epochs:7d}: {loss.item():.4f}')\n",
    "    lossi.append(loss.log10().item())"
   ]
  },
  {
   "cell_type": "code",
   "execution_count": 65,
   "metadata": {},
   "outputs": [
    {
     "data": {
      "text/plain": [
       "[<matplotlib.lines.Line2D at 0x31c3937c0>]"
      ]
     },
     "execution_count": 65,
     "metadata": {},
     "output_type": "execute_result"
    },
    {
     "data": {
      "image/png": "[encoded data removed]",
      "text/plain": [
       "<Figure size 640x480 with 1 Axes>"
      ]
     },
     "metadata": {},
     "output_type": "display_data"
    }
   ],
   "source": [
    "plt.plot(lossi)"
   ]
  },
  {
   "cell_type": "code",
   "execution_count": 66,
   "metadata": {},
   "outputs": [
    {
     "name": "stdout",
     "output_type": "stream",
     "text": [
      "train 1.9400393962860107\n",
      "dev 1.9561305046081543\n"
     ]
    }
   ],
   "source": [
    "@torch.no_grad() # disables gradient tracking\n",
    "def split_loss(split):\n",
    "    x, y = {\n",
    "        'train': (Xtr, Ytr),\n",
    "        'dev': (Xdev, Ydev),\n",
    "        'test': (Xte, Yte)\n",
    "    }[split]\n",
    "\n",
    "    emb = C[x]\n",
    "    h = torch.tanh(emb.view(-1, context_length*n_emb_dim)@W1 + b1)\n",
    "    logits = h@W2 + b2\n",
    "    loss = F.cross_entropy(logits, y)\n",
    "    print(split, loss.item())\n",
    "\n",
    "split_loss('train')\n",
    "split_loss('dev')"
   ]
  },
  {
   "cell_type": "code",
   "execution_count": 67,
   "metadata": {},
   "outputs": [
    {
     "name": "stdout",
     "output_type": "stream",
     "text": [
      "bhati.\n",
      "thadivyaathevathika.\n",
      "katheekika.\n",
      "harsini.\n",
      "sathudeya.\n",
      "esha.\n",
      "archirothikendikannikha.\n",
      "inthan.\n",
      "lacheyan.\n",
      "drlodithth.\n",
      "ani.\n",
      "dharth.\n",
      "balangenth.\n",
      "ashrayinth.\n",
      "pooshit.\n",
      "lika.\n",
      "iri.\n",
      "neshkavika.\n",
      "madwasahanan.\n",
      "hem.\n"
     ]
    }
   ],
   "source": [
    "g = torch.Generator().manual_seed(1337101+20)\n",
    "for _ in range(20):\n",
    "    context = [0]*context_length\n",
    "    out = []\n",
    "    while True:\n",
    "        emb = C[torch.tensor([context])]\n",
    "        h = torch.tanh(emb.view(-1, context_length*n_emb_dim)@W1 + b1)\n",
    "        logits = h@W2 + b2\n",
    "        probs = F.softmax(logits, dim=1)\n",
    "        ix = torch.multinomial(probs, num_samples=1, generator=g, replacement=True)\n",
    "        out.append(itos[ix.item()])\n",
    "        context = context[1:] + [ix]\n",
    "        if ix == 0:\n",
    "            break\n",
    "    print(''.join(out))"
   ]
  },
  {
   "cell_type": "markdown",
   "metadata": {},
   "source": [
    "### Fixing the initial loss"
   ]
  },
  {
   "cell_type": "markdown",
   "metadata": {},
   "source": [
    "Initially the loss is very high: 0/ 200000: 27.1381 and it rapidly comes down to 2. So, the initial loss is very high.\n",
    "\n",
    "In training of NN, we can always have a rough idea of what loss to expect at initialization.\n",
    "\n",
    "At initialization, we don't have any reasons to believe that any character can be more likely than another. The prob distribution that comes out initially is a uniform distribution, assigning almost equal prob to all the 27 characters."
   ]
  },
  {
   "cell_type": "code",
   "execution_count": 40,
   "metadata": {},
   "outputs": [
    {
     "data": {
      "text/plain": [
       "tensor(3.2958)"
      ]
     },
     "execution_count": 40,
     "metadata": {},
     "output_type": "execute_result"
    }
   ],
   "source": [
    "prob = 1/27.0\n",
    "- torch.tensor(prob).log() # loss is negative log of prob"
   ]
  },
  {
   "cell_type": "markdown",
   "metadata": {},
   "source": [
    "NLL of uniformly occuring charater is 3.2958 which is much much lesser than the initial loss reported by network i.e. 27.1381. NN is assigning unequal prob to charaters."
   ]
  },
  {
   "cell_type": "code",
   "execution_count": 56,
   "metadata": {},
   "outputs": [
    {
     "data": {
      "text/plain": [
       "(tensor([0.2500, 0.2500, 0.2500, 0.2500]), tensor(1.3863))"
      ]
     },
     "execution_count": 56,
     "metadata": {},
     "output_type": "execute_result"
    }
   ],
   "source": [
    "logits = torch.tensor([0.0, 0.0, 0.0, 0.0])\n",
    "probs = torch.softmax(logits, dim=0)\n",
    "loss = -probs[2].log()\n",
    "probs, loss"
   ]
  },
  {
   "cell_type": "markdown",
   "metadata": {},
   "source": [
    "When the logits are close to 0, the probs are uniform. If the label is 2 or 3 or any, we'll get exact same loss because the distribution is uniform."
   ]
  },
  {
   "cell_type": "code",
   "execution_count": 47,
   "metadata": {},
   "outputs": [
    {
     "data": {
      "text/plain": [
       "(tensor([0.0066, 0.0066, 0.9802, 0.0066]), tensor(0.0200))"
      ]
     },
     "execution_count": 47,
     "metadata": {},
     "output_type": "execute_result"
    }
   ],
   "source": [
    "logits = torch.tensor([0.0, 0.0, 5.0, 0.0])\n",
    "probs = torch.softmax(logits, dim=0)\n",
    "loss = -probs[2].log()\n",
    "probs, loss"
   ]
  },
  {
   "cell_type": "markdown",
   "metadata": {},
   "source": [
    "Here we've increased the logits for one of the character, if the same character is the correct one, then the loss will be very low."
   ]
  },
  {
   "cell_type": "code",
   "execution_count": 48,
   "metadata": {},
   "outputs": [
    {
     "data": {
      "text/plain": [
       "(tensor([0.0066, 0.0066, 0.9802, 0.0066]), tensor(5.0200))"
      ]
     },
     "execution_count": 48,
     "metadata": {},
     "output_type": "execute_result"
    }
   ],
   "source": [
    "logits = torch.tensor([0.0, 0.0, 5.0, 0.0])\n",
    "probs = torch.softmax(logits, dim=0)\n",
    "loss = -probs[3].log()\n",
    "probs, loss"
   ]
  },
  {
   "cell_type": "markdown",
   "metadata": {},
   "source": [
    "If the logits with high value is not the correct character, then the loss will be very high."
   ]
  },
  {
   "cell_type": "code",
   "execution_count": 53,
   "metadata": {},
   "outputs": [
    {
     "data": {
      "text/plain": [
       "(tensor([-1.5702,  0.8523, -1.0681,  1.2669]),\n",
       " tensor([0.0323, 0.3638, 0.0533, 0.5506]),\n",
       " tensor(0.5967))"
      ]
     },
     "execution_count": 53,
     "metadata": {},
     "output_type": "execute_result"
    }
   ],
   "source": [
    "# logits = torch.tensor([0.0, 0.0, 5.0, 0.0])\n",
    "logits = torch.randn(4)\n",
    "probs = torch.softmax(logits, dim=0)\n",
    "loss = -probs[3].log()\n",
    "logits, probs, loss"
   ]
  },
  {
   "cell_type": "markdown",
   "metadata": {},
   "source": [
    "Logits are normally distributed in the above example, which are centered around zero. So, the loss is not very high."
   ]
  },
  {
   "cell_type": "code",
   "execution_count": 55,
   "metadata": {},
   "outputs": [
    {
     "data": {
      "text/plain": [
       "(tensor([  49.9812, -130.6982,   11.6508, -114.2545]),\n",
       " tensor([1.0000e+00, 0.0000e+00, 2.2559e-17, 0.0000e+00]),\n",
       " tensor(inf))"
      ]
     },
     "execution_count": 55,
     "metadata": {},
     "output_type": "execute_result"
    }
   ],
   "source": [
    "logits = torch.randn(4) *100\n",
    "probs = torch.softmax(logits, dim=0)\n",
    "loss = -probs[3].log()\n",
    "logits, probs, loss"
   ]
  },
  {
   "cell_type": "markdown",
   "metadata": {},
   "source": [
    "But if the logits are very far apart as in above example, we might get extremely insane loss, even infinity at initialization."
   ]
  },
  {
   "cell_type": "markdown",
   "metadata": {},
   "source": [
    "So, we want the logits to be roughly zero when initializing.\n",
    "\n",
    "NOTE: Logits don't have to be zero, they just have to be equal. We'll still get same loss as we get when logits are all zeros. But by symmetry we don't want them to be any +ve or -ve numbers, we want them all to be zeros."
   ]
  },
  {
   "cell_type": "markdown",
   "metadata": {},
   "source": [
    "Logits are calculated using the weights W2 and biases b2. If we want to make logits closer to zero initially, then we can set b2 to zero and make W2 very small."
   ]
  },
  {
   "cell_type": "code",
   "execution_count": 70,
   "metadata": {},
   "outputs": [
    {
     "name": "stdout",
     "output_type": "stream",
     "text": [
      "Total Parameters: 11897\n"
     ]
    }
   ],
   "source": [
    "n_emb_dim = 10    # embedding dimensionality\n",
    "n_hidden = 200    # neurons in hidden layers\n",
    "\n",
    "g = torch.Generator().manual_seed(1337101)\n",
    "\n",
    "C = torch.randn((vocab_size, n_emb_dim), generator=g)\n",
    "W1 = torch.randn((context_length*n_emb_dim, n_hidden), generator=g)\n",
    "b1 = torch.randn(n_hidden, generator=g)\n",
    "W2 = torch.randn((n_hidden, vocab_size), generator=g) * 0.01 # close to zero\n",
    "b2 = torch.randn(vocab_size, generator=g) * 0 # initially zero\n",
    "\n",
    "parameters = [C, W1, b1, W2, b2]\n",
    "\n",
    "for p in parameters:\n",
    "    p.requires_grad = True\n",
    "\n",
    "print(f'Total Parameters: {sum(p.nelement() for p in parameters)}')"
   ]
  },
  {
   "cell_type": "code",
   "execution_count": 71,
   "metadata": {},
   "outputs": [
    {
     "name": "stdout",
     "output_type": "stream",
     "text": [
      "      0/ 200000: 3.3382\n",
      "  10000/ 200000: 2.1798\n",
      "  20000/ 200000: 2.2680\n",
      "  30000/ 200000: 2.0886\n",
      "  40000/ 200000: 2.3178\n",
      "  50000/ 200000: 2.0846\n",
      "  60000/ 200000: 2.7025\n",
      "  70000/ 200000: 1.6936\n",
      "  80000/ 200000: 1.8562\n",
      "  90000/ 200000: 1.8268\n",
      " 100000/ 200000: 1.9872\n",
      " 110000/ 200000: 1.7483\n",
      " 120000/ 200000: 2.0838\n",
      " 130000/ 200000: 2.0767\n",
      " 140000/ 200000: 1.8027\n",
      " 150000/ 200000: 1.5521\n",
      " 160000/ 200000: 1.8047\n",
      " 170000/ 200000: 1.7415\n",
      " 180000/ 200000: 2.0092\n",
      " 190000/ 200000: 1.7618\n"
     ]
    }
   ],
   "source": [
    "epochs = 200000\n",
    "batch_size = 24\n",
    "lossi = []\n",
    "g = torch.Generator().manual_seed(1337101)\n",
    "for i in range(epochs):\n",
    "    ix = torch.randint(0, Xtr.shape[0], (batch_size, ), generator=g)\n",
    "    Xb, Yb = Xtr[ix], Ytr[ix]\n",
    "\n",
    "    # forward pass\n",
    "    emb = C[Xb] # 24x3x10\n",
    "    h = torch.tanh(emb.view(-1, context_length*n_emb_dim)@W1 + b1) # 24x200\n",
    "    logits = h@W2 + b2\n",
    "    loss = F.cross_entropy(logits, Yb)\n",
    "\n",
    "    # zero grads\n",
    "    for p in parameters:\n",
    "        p.grad = None\n",
    "    \n",
    "    # backpropagation\n",
    "    loss.backward()\n",
    "\n",
    "    # update weights\n",
    "    lr = 0.1 if i < 100000 else 0.01  \n",
    "    for p in parameters:\n",
    "        p.data += -lr * p.grad\n",
    "    \n",
    "    # track stats\n",
    "    if i%10000 == 0:\n",
    "        print(f'{i:7d}/{epochs:7d}: {loss.item():.4f}')\n",
    "    lossi.append(loss.log10().item())"
   ]
  },
  {
   "cell_type": "code",
   "execution_count": 72,
   "metadata": {},
   "outputs": [
    {
     "data": {
      "text/plain": [
       "[<matplotlib.lines.Line2D at 0x31c544220>]"
      ]
     },
     "execution_count": 72,
     "metadata": {},
     "output_type": "execute_result"
    },
    {
     "data": {
      "image/png": "[encoded data removed]",
      "text/plain": [
       "<Figure size 640x480 with 1 Axes>"
      ]
     },
     "metadata": {},
     "output_type": "display_data"
    }
   ],
   "source": [
    "plt.plot(lossi)"
   ]
  },
  {
   "cell_type": "markdown",
   "metadata": {},
   "source": [
    "No more hockey stick shape, because the initial loss is already realistic (close to what it actually should be)."
   ]
  },
  {
   "cell_type": "code",
   "execution_count": 73,
   "metadata": {},
   "outputs": [
    {
     "name": "stdout",
     "output_type": "stream",
     "text": [
      "train 1.9139963388442993\n",
      "dev 1.9348492622375488\n"
     ]
    }
   ],
   "source": [
    "split_loss('train')\n",
    "split_loss('dev')\n",
    "# losses improved a little. We're spending more time optimizing the NN actually, instead of just spending the initial cycles\n",
    "# squashing down the weights."
   ]
  },
  {
   "cell_type": "markdown",
   "metadata": {},
   "source": [
    "### Fixing the saturated tanh"
   ]
  },
  {
   "cell_type": "code",
   "execution_count": 74,
   "metadata": {},
   "outputs": [
    {
     "name": "stdout",
     "output_type": "stream",
     "text": [
      "Total Parameters: 11897\n"
     ]
    }
   ],
   "source": [
    "n_emb_dim = 10    # embedding dimensionality\n",
    "n_hidden = 200    # neurons in hidden layers\n",
    "\n",
    "g = torch.Generator().manual_seed(1337101)\n",
    "\n",
    "C = torch.randn((vocab_size, n_emb_dim), generator=g)\n",
    "W1 = torch.randn((context_length*n_emb_dim, n_hidden), generator=g)\n",
    "b1 = torch.randn(n_hidden, generator=g)\n",
    "W2 = torch.randn((n_hidden, vocab_size), generator=g) * 0.01 # close to zero\n",
    "b2 = torch.randn(vocab_size, generator=g) * 0 # initially zero\n",
    "\n",
    "parameters = [C, W1, b1, W2, b2]\n",
    "\n",
    "for p in parameters:\n",
    "    p.requires_grad = True\n",
    "\n",
    "print(f'Total Parameters: {sum(p.nelement() for p in parameters)}')"
   ]
  },
  {
   "cell_type": "code",
   "execution_count": 75,
   "metadata": {},
   "outputs": [
    {
     "name": "stdout",
     "output_type": "stream",
     "text": [
      "      0/ 200000: 3.3382\n"
     ]
    }
   ],
   "source": [
    "epochs = 200000\n",
    "batch_size = 24\n",
    "lossi = []\n",
    "g = torch.Generator().manual_seed(1337101)\n",
    "for i in range(epochs):\n",
    "    ix = torch.randint(0, Xtr.shape[0], (batch_size, ), generator=g)\n",
    "    Xb, Yb = Xtr[ix], Ytr[ix]\n",
    "\n",
    "    # forward pass\n",
    "    emb = C[Xb] # 24x3x10\n",
    "    h_pre_activation = emb.view(-1, context_length*n_emb_dim)@W1 + b1 # 24x200\n",
    "    h = torch.tanh(h_pre_activation) # 24x200\n",
    "    logits = h@W2 + b2\n",
    "    loss = F.cross_entropy(logits, Yb)\n",
    "\n",
    "    # zero grads\n",
    "    for p in parameters:\n",
    "        p.grad = None\n",
    "    \n",
    "    # backpropagation\n",
    "    loss.backward()\n",
    "\n",
    "    # update weights\n",
    "    lr = 0.1 if i < 100000 else 0.01  \n",
    "    for p in parameters:\n",
    "        p.data += -lr * p.grad\n",
    "    \n",
    "    # track stats\n",
    "    if i%10000 == 0:\n",
    "        print(f'{i:7d}/{epochs:7d}: {loss.item():.4f}')\n",
    "    lossi.append(loss.log10().item())\n",
    "    \n",
    "    break"
   ]
  },
  {
   "cell_type": "code",
   "execution_count": 79,
   "metadata": {},
   "outputs": [
    {
     "data": {
      "text/plain": [
       "tensor([[-1.0000,  0.9708, -0.6382,  ..., -0.9783,  0.9693, -0.9985],\n",
       "        [-1.0000,  0.7690,  1.0000,  ..., -0.9999,  0.9838, -1.0000],\n",
       "        [ 0.9999, -1.0000, -1.0000,  ...,  1.0000,  1.0000,  0.9965],\n",
       "        ...,\n",
       "        [-1.0000,  1.0000,  0.7552,  ..., -1.0000,  1.0000, -0.7790],\n",
       "        [-0.9994, -0.9991,  0.1907,  ..., -0.9984,  0.6924, -1.0000],\n",
       "        [ 1.0000, -0.2758, -1.0000,  ...,  0.2693,  1.0000,  1.0000]],\n",
       "       grad_fn=<TanhBackward0>)"
      ]
     },
     "execution_count": 79,
     "metadata": {},
     "output_type": "execute_result"
    }
   ],
   "source": [
    "h"
   ]
  },
  {
   "cell_type": "markdown",
   "metadata": {},
   "source": [
    "Most of the values here are -1 or 1. tanh is a squashing function, it takes a value and squash it between -1 and 1"
   ]
  },
  {
   "cell_type": "code",
   "execution_count": 84,
   "metadata": {},
   "outputs": [
    {
     "data": {
      "image/png": "[encoded data removed]",
      "text/plain": [
       "<Figure size 640x480 with 1 Axes>"
      ]
     },
     "metadata": {},
     "output_type": "display_data"
    }
   ],
   "source": [
    "x = torch.linspace(-5, 5, 500)\n",
    "plt.plot(x, torch.tanh(x));"
   ]
  },
  {
   "cell_type": "code",
   "execution_count": 87,
   "metadata": {},
   "outputs": [
    {
     "name": "stdout",
     "output_type": "stream",
     "text": [
      "torch.Size([24, 200])\n"
     ]
    },
    {
     "data": {
      "image/png": "[encoded data removed]",
      "text/plain": [
       "<Figure size 640x480 with 1 Axes>"
      ]
     },
     "metadata": {},
     "output_type": "display_data"
    }
   ],
   "source": [
    "print(h.shape)\n",
    "x = h.view(-1).tolist() # creating a single large list of h\n",
    "plt.hist(x, bins=50);"
   ]
  },
  {
   "cell_type": "code",
   "execution_count": 89,
   "metadata": {},
   "outputs": [
    {
     "data": {
      "image/png": "[encoded data removed]",
      "text/plain": [
       "<Figure size 640x480 with 1 Axes>"
      ]
     },
     "metadata": {},
     "output_type": "display_data"
    }
   ],
   "source": [
    "plt.hist(h_pre_activation.view(-1).tolist(), 50);"
   ]
  },
  {
   "cell_type": "markdown",
   "metadata": {},
   "source": [
    "After applying tanh on h_pre_activation, most of the values take on -1 and +1. It is because in h_pre_activation the values are very broad, they are between -20 and +20 and applying tanh make these values -1 and +1"
   ]
  },
  {
   "cell_type": "markdown",
   "metadata": {},
   "source": [
    "What happens to the gradients when the tanh is very close to -1 or +1?\n",
    "\n",
    "    self.grad += (1.0 - tanh(x)**2) * out.grad\n",
    "\n",
    "Whenever tanh(x) takes values closer to -1 or 1, the grad is almost zero and we're stopping the backpropagation through this tanh unit (out.grad won't propagate further).\n",
    "\n",
    "When tanh(x) is zero, the out.grad passes as it is. This unit is sort of inactive and the gradient just passes through.\n",
    "\n",
    "If you notice, the amount of out.grad always decreases ((1.0 - tanh(x)^2) * out.grad) when passed through tanh unit and it decreases perportionally to where you're in the tanh region. When you're in flat region (1.0 - tanh(x)^2) is close to zero and when in the slope region it is between 0 to 0.9999. \n",
    "\n",
    "In the flat regions of tanh, the derivative is close to zero, there's no impact on the loss on changing the weights of this perticular neuron.\n",
    "\n",
    "\n"
   ]
  }
 ],
 "metadata": {
  "kernelspec": {
   "display_name": "zoro",
   "language": "python",
   "name": "python3"
  },
  "language_info": {
   "codemirror_mode": {
    "name": "ipython",
    "version": 3
   },
   "file_extension": ".py",
   "mimetype": "text/x-python",
   "name": "python",
   "nbconvert_exporter": "python",
   "pygments_lexer": "ipython3",
   "version": "3.10.13"
  }
 },
 "nbformat": 4,
 "nbformat_minor": 2
}
